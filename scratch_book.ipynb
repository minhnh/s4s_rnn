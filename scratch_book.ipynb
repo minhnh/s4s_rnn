{
 "cells": [
  {
   "cell_type": "code",
   "execution_count": null,
   "metadata": {
    "collapsed": false
   },
   "outputs": [],
   "source": [
    "from sweat4science.workspace.Workspace import Workspace\n",
    "from sweat4science.evaluation.sessionset import MF_sessionset as mfs\n",
    "import sweat4science as s4s\n",
    "\n",
    "import os\n",
    "import numpy as np\n",
    "\n",
    "import keras\n",
    "from keras.models import Sequential\n",
    "from keras.layers.core import Dense, Activation\n",
    "from keras.layers.recurrent import LSTM\n",
    "from keras.preprocessing.sequence import pad_sequences\n",
    "from keras.models import model_from_json\n",
    "\n",
    "from matplotlib import pyplot as plt\n",
    "%matplotlib inline\n",
    "\n",
    "from sklearn.model_selection import KFold\n",
    "from s4s_rnn import utils\n",
    "\n",
    "# import sys\n",
    "# print(sys.path)"
   ]
  },
  {
   "cell_type": "code",
   "execution_count": null,
   "metadata": {
    "collapsed": false
   },
   "outputs": [],
   "source": [
    "workspace_folder = \"/home/minh/workspace/git/rnd/session-data\"\n",
    "ws = Workspace(workspace_folder)\n",
    "sessions = mfs.ICT_indoor(ws)\n"
   ]
  },
  {
   "cell_type": "code",
   "execution_count": null,
   "metadata": {
    "collapsed": false
   },
   "outputs": [],
   "source": [
    "import re\n",
    "\n",
    "for session in sessions:\n",
    "    if len(re.findall(\"slope\", str(session))) > 0:\n",
    "        sessions.remove(session)\n",
    "    pass\n",
    "\n",
    "sessions = np.array(sessions)\n",
    "print(\"\\n\".join(map(str, sessions)))\n"
   ]
  },
  {
   "cell_type": "code",
   "execution_count": null,
   "metadata": {
    "collapsed": false
   },
   "outputs": [],
   "source": [
    "def evaluate_cross_validation(sessions, result_dir, experiment_name, date_string,\n",
    "                              time_steps, hidden_neurons, num_epoch,\n",
    "                              input_dim=4, save_plot=False):\n",
    "    # Construct base name\n",
    "    base_name = experiment_name + \"_\" + str(time_steps) + \"step_\" + str(input_dim) + \"in_\" \\\n",
    "        + str(hidden_neurons) + \"hidden_\" + \"20161114\" + \"_\" + str(num_epoch) + \"epoch_\"\n",
    "    base_name = os.path.join(result_dir, base_name)\n",
    "    print(\"\\nBase name: %s\\n\" % (base_name))\n",
    "\n",
    "    # Open model\n",
    "    model_file_name = base_name  + \"model.json\"\n",
    "    json_file = open(model_file_name, 'r')\n",
    "    loaded_model_json = json_file.read()\n",
    "    json_file.close()\n",
    "\n",
    "    # Cross validation testing\n",
    "    test_predictions = None\n",
    "    test_actual_outputs = None\n",
    "    kf = KFold(len(sessions))\n",
    "    for train_index, test_index in kf.split(sessions):\n",
    "        test_sessions = sessions[test_index]\n",
    "        print(\"\\nTesting on:\\n\" + \"\\n\".join(map(str, test_sessions)))\n",
    "\n",
    "        test_data_x, test_data_y, test_mean, test_std = \\\n",
    "            utils.get_data_from_sessions(test_sessions, time_steps, return_norm=True)\n",
    "\n",
    "        loaded_model = model_from_json(loaded_model_json)\n",
    "\n",
    "        match = re.match('.+/running_indoor_(.+)/(\\d+)>', str(test_sessions[0]))\n",
    "        cross_validation_name = base_name + match.groups()[0] + \"_\" + match.groups()[1] + \"_\"\n",
    "\n",
    "        test_data_y_unnormed, test_predict_unnormed, mse = \\\n",
    "            utils.evaluate_model(loaded_model, cross_validation_name + \"weights.h5\",\n",
    "                                 test_data_x, test_data_y, test_mean[-1], test_std[-1])\n",
    "\n",
    "        print(\"MSE: %.5f\\nRMSE: %.5f\" % (mse, np.sqrt(mse)))\n",
    "\n",
    "        utils.plot_predictions(test_predict_unnormed, test_data_y_unnormed, cross_validation_name + \"result.png\",\n",
    "                               \"Heart rate simulation for running_indoor_\" + match.groups()[0]\n",
    "                               + \"/\" + match.groups()[1] + \", lookback of \" + str(time_steps))\n",
    "\n",
    "        test_predictions = test_predict_unnormed if test_predictions is None \\\n",
    "            else np.append(test_predictions, test_predict_unnormed, axis=0)\n",
    "        test_actual_outputs = test_data_y_unnormed if test_actual_outputs is None \\\n",
    "            else np.append(test_actual_outputs, test_data_y_unnormed, axis=0)\n",
    "\n",
    "        pass\n",
    "\n",
    "    mse = np.mean((test_predictions - test_actual_outputs)**2)\n",
    "    rmse = np.sqrt(mse)\n",
    "    print(\"\\nOverall results:\\n MSE: %.5f\\n RMSE: %.5f\" % (mse, rmse))\n",
    "    return\n"
   ]
  },
  {
   "cell_type": "code",
   "execution_count": null,
   "metadata": {
    "collapsed": false
   },
   "outputs": [],
   "source": [
    "evaluate_cross_validation(sessions=sessions, result_dir=\"train_results\", experiment_name=\"lstm_indoor\",\n",
    "                          date_string=\"20161114\", time_steps=5, hidden_neurons=400, num_epoch=150)"
   ]
  },
  {
   "cell_type": "code",
   "execution_count": null,
   "metadata": {
    "collapsed": false
   },
   "outputs": [],
   "source": [
    "data = np.genfromtxt(\"artificial_data/sinx_plus_x.csv\", delimiter=',')\n",
    "num_train = int(0.8*len(data))\n",
    "train_data_x_ = data[:num_train, :-1]\n",
    "train_data_y_ = data[:num_train, -1:]\n",
    "test_data_x_ = data[num_train:, :-1]\n",
    "test_data_y_ = data[num_train:, -1:]\n",
    "\n",
    "plt.figure(figsize=(10, 7))\n",
    "plt.plot(train_data_y_, 'g*')\n",
    "plt.show()\n",
    "\n",
    "input_dim = 2\n",
    "output_dim = 1\n",
    "hidden_neurons = 400\n",
    "num_epoch = 20\n",
    "for ntsteps in [5, 10, 15]:\n",
    "    base_name = \"lstm_sinx_plus_x_\" + str(ntsteps) + \"step_\" + str(input_dim) +\\\n",
    "                \"in_\" + str(hidden_neurons) + \"hidden_\" + \"20161108\" +\\\n",
    "                \"_\" + str(num_epoch) + \"epoch_\"\n",
    "    base_name = os.path.join(\"train_results\", base_name)\n",
    "    model_file_name = base_name  + \"model.json\"\n",
    "    json_file = open(model_file_name, 'r')\n",
    "    loaded_model_json = json_file.read()\n",
    "    json_file.close()\n",
    "\n",
    "    loaded_model = model_from_json(loaded_model_json)\n",
    "\n",
    "    test_data_x = utils.reshape_array_by_time_steps(test_data_x_, time_steps=ntsteps)\n",
    "    test_data_y = test_data_y_[-len(test_data_x):]\n",
    "\n",
    "    loaded_model.load_weights(base_name + \"weights.h5\")\n",
    "    loaded_model.compile(loss='mean_squared_error', optimizer='rmsprop', metrics=['mse'])\n",
    "\n",
    "    test_predict = loaded_model.predict(test_data_x)\n",
    "    mse = np.mean((test_predict - test_data_y)**2)\n",
    "    rmse = np.sqrt(mse)\n",
    "\n",
    "    print(\"MSE: %.5f\\nRMSE: %.5f\" % (mse, rmse) )\n",
    "\n",
    "    # Plot\n",
    "    plt.figure(figsize=(10, 7))\n",
    "    plt.plot(test_predict, 'r+')\n",
    "    plt.plot(test_data_y, 'g*')\n",
    "    plt.show()\n",
    "    pass\n",
    "\n"
   ]
  }
 ],
 "metadata": {
  "kernelspec": {
   "display_name": "Python 3",
   "language": "python",
   "name": "python3"
  },
  "language_info": {
   "codemirror_mode": {
    "name": "ipython",
    "version": 3
   },
   "file_extension": ".py",
   "mimetype": "text/x-python",
   "name": "python",
   "nbconvert_exporter": "python",
   "pygments_lexer": "ipython3",
   "version": "3.5.2"
  }
 },
 "nbformat": 4,
 "nbformat_minor": 0
}
